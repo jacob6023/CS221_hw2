import pandas as pd

#Load data
data = pd.read_excel("GooglePlaystore.xlsx")

#Remove invalid records
data = data[data['Reviews'] != '3.0M']
data = data[~data.apply(lambda x: x.astype(str).str.contains('Varies with device')).any(axis=1)]

#Process Android version and Installs
data['Android Ver'] = data['Android Ver'].str.extract(r'(\d+\.\d+)')
data['Installs'] = data['Installs'].str.replace('[+,]', '', regex=True).astype(int)

#Convert 'Reviews' to integer for processing
data['Reviews'] = data['Reviews'].astype(int)

def fill_missing_ratings(row):
    if pd.isna(row['Rating']):
        if row['Reviews'] < 100 and row['Installs'] < 50000:
            return None
        else:
            return category_averages[row['Category']]
    return row['Rating']

#Calculate average ratings per category rounded to two decimal places
category_averages = data.groupby('Category')['Rating'].mean().round(2)

data['Rating'] = data.apply(fill_missing_ratings, axis=1)
data = data.dropna(subset=['Rating'])

#Convert 'Size' to integer
def convert_size(size):
    if 'M' in size:
        return int(float(size.replace('M', '')) * 1000000)
    elif 'k' in size or 'K' in size:
        return int(float(size.replace('k', '').replace('K', '')) * 1000)
    else:
        return None  

data['Size'] = data['Size'].apply(convert_size)
data = data.dropna(subset=['Size'])

data.to_excel("GooglePlaystore.xlsx", index=False, engine='openpyxl')

