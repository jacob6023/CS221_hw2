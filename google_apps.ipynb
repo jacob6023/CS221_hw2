import pandas as pd

#Load the DataFrame
dataframe1 = pd.read_excel('GooglePlaystore.xlsx')

#Check column names if unsure where the value might be
print(dataframe1.columns)

#Assuming the name is in a column named 'App'
dataframe1 = dataframe1[dataframe1['App'] != "InterracialCupid - Interracial Dating App"]

#Print the DataFrame to see the resultaimport pandas as pd

#Load data
data = pd.read_excel("GooglePlaystore.xlsx")

#Remove invalid records
data = data[data['Reviews'] != '3.0M']
data = data[~data.apply(lambda x: x.astype(str).str.contains('Varies with device')).any(axis=1)]

#Process Android version and Installs
data['Android Ver'] = data['Android Ver'].str.extract(r'(\d+\.\d+)')
data['Installs'] = data['Installs'].str.replace('[+,]', '', regex=True).astype(int)

#Convert 'Reviews' to integer for processing
data['Reviews'] = data['Reviews'].astype(int)

def fill_missing_ratings(row):
    if pd.isna(row['Rating']):
        if row['Reviews'] < 100 and row['Installs'] < 50000:
            return None
        else:
            return category_averages[row['Category']]
    return row['Rating']

#Calculate the average ratings per category rounded to two decimal places
category_averages = data.groupby('Category')['Rating'].mean().round(2)

data['Rating'] = data.apply(fill_missing_ratings, axis=1)
data = data.dropna(subset=['Rating'])

#Convert 'Size' to integer
def convert_size(size):
    if 'M' in size:
        return int(float(size.replace('M', '')) * 1000000)
    elif 'k' in size or 'K' in size:
        return int(float(size.replace('k', '').replace('K', '')) * 1000)
    else:
        return None  

data['Size'] = data['Size'].apply(convert_size)
data = data.dropna(subset=['Size'])

data.to_excel("GooglePlaystore.xlsx", index=False, engine='openpyxl')


print(dataframe1)
