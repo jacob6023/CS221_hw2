import pandas as pd
import numpy as np
import matplotlib.pyplot as plt

#Load CSV file
file_path = 'EuCitiesTemperatures.csv'
df = pd.read_csv(file_path)

print(df[df.isnull().any(axis=1)])

#Calculate average latitude and longitude by country
avg_lat_long = df.groupby('country')[['latitude', 'longitude']].mean().round(2)

#Function to fill null latitude and longitude
def fill_missing_coords(row):
    if pd.isna(row['latitude']):
        row['latitude'] = avg_lat_long.at[row['country'], 'latitude']
    if pd.isna(row['longitude']):
        row['longitude'] = avg_lat_long.at[row['country'], 'longitude']
    return row

df = df.apply(fill_missing_coords, axis=1)

#Calculate average temperature by region type (EU and coastline)
avg_temp = df.groupby(['EU', 'coastline'])['temperature'].transform('mean').round(2)

#Fill missing temperature values based on region type
df['temperature'] = df.apply(
    lambda row: avg_temp[row.name] if pd.isna(row['temperature']) else row['temperature'], axis=1)

#Round latitude, longitude, and temperature
df['latitude'] = df['latitude'].round(2)
df['longitude'] = df['longitude'].round(2)
df['temperature'] = df['temperature'].round(2)

df.to_csv(file_path, index=False)

#Group by EU membership and coastline status
region_types = df.groupby(['EU', 'coastline']).size()

#Bar chart
region_types.plot(kind='bar', color='skyblue')
plt.title('Number of Cities by Region Type')
plt.xlabel('Region Type (EU, Coastline)')
plt.ylabel('Number of Cities')
plt.xticks(rotation=45)
plt.show()

#Scatter plot of latitude vs longitude
fig, ax = plt.subplots()
for name, group in df.groupby('country'):
    ax.scatter(group['longitude'], group['latitude'], label=name)
ax.set_xlabel('Longitude')
ax.set_ylabel('Latitude')
ax.set_title('Map Visual of Cities')
plt.legend(bbox_to_anchor=(1.05, 1), loc='upper left')
plt.show()

#Histogram of population values across countries
country_populations = df.drop_duplicates(subset='country')['population']
country_populations.hist(bins=5, color='purple', edgecolor='black')
plt.title('Population Distribution Among Countries')
plt.xlabel('Population (millions)')
plt.ylabel('Number of Countries')
plt.show()

def get_color(temp):
    if temp > 10:
        return 'red'
    elif temp < 6:
        return 'blue'
    else:
        return 'orange'

#Group the data by EU and coastline
grouped = df.groupby(['EU', 'coastline'])

#Create subplots
fig, axs = plt.subplots(2, 2, figsize=(12, 10))
fig.suptitle('City Temperatures by Region')

for (key, group), ax in zip(grouped, axs.flatten()):
    colors = group['temperature'].apply(get_color)
    #Create scatter plot
    ax.scatter(group['city'].index, group['latitude'], c=colors, edgecolor='black', label=f"EU={key[0]}, Coast={key[1]}")
    ax.set_title(f"Region: EU={key[0]}, Coastline={key[1]}")
    ax.set_xlabel('City Index')
    ax.set_ylabel('Latitude')
    ax.legend()

plt.tight_layout(rect=[0, 0.03, 1, 0.95])
plt.show()
